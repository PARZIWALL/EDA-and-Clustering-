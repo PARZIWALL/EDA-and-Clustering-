{
  "nbformat": 4,
  "nbformat_minor": 0,
  "metadata": {
    "colab": {
      "provenance": [],
      "authorship_tag": "ABX9TyNldsAlD8oH0Urae0BjKb+3",
      "include_colab_link": true
    },
    "kernelspec": {
      "name": "python3",
      "display_name": "Python 3"
    },
    "language_info": {
      "name": "python"
    }
  },
  "cells": [
    {
      "cell_type": "markdown",
      "metadata": {
        "id": "view-in-github",
        "colab_type": "text"
      },
      "source": [
        "<a href=\"https://colab.research.google.com/github/PARZIWALL/EDA-and-Clustering-/blob/main/Gagan_Sharma_Lookalike.ipynb\" target=\"_parent\"><img src=\"https://colab.research.google.com/assets/colab-badge.svg\" alt=\"Open In Colab\"/></a>"
      ]
    },
    {
      "cell_type": "code",
      "execution_count": 1,
      "metadata": {
        "colab": {
          "base_uri": "https://localhost:8080/"
        },
        "id": "Iot4DZ9Swfw1",
        "outputId": "a1733445-747d-4fb4-89e4-ceaa1290d1c4"
      },
      "outputs": [
        {
          "output_type": "stream",
          "name": "stdout",
          "text": [
            "--2025-01-23 16:24:56--  https://drive.google.com/uc?id=1bu_--mo79VdUG9oin4ybfFGRUSXAe-WE\n",
            "Resolving drive.google.com (drive.google.com)... 74.125.69.113, 74.125.69.102, 74.125.69.138, ...\n",
            "Connecting to drive.google.com (drive.google.com)|74.125.69.113|:443... connected.\n",
            "HTTP request sent, awaiting response... 303 See Other\n",
            "Location: https://drive.usercontent.google.com/download?id=1bu_--mo79VdUG9oin4ybfFGRUSXAe-WE [following]\n",
            "--2025-01-23 16:24:56--  https://drive.usercontent.google.com/download?id=1bu_--mo79VdUG9oin4ybfFGRUSXAe-WE\n",
            "Resolving drive.usercontent.google.com (drive.usercontent.google.com)... 64.233.179.132, 2607:f8b0:4001:c68::84\n",
            "Connecting to drive.usercontent.google.com (drive.usercontent.google.com)|64.233.179.132|:443... connected.\n",
            "HTTP request sent, awaiting response... 200 OK\n",
            "Length: 8542 (8.3K) [application/octet-stream]\n",
            "Saving to: ‘Customers.csv’\n",
            "\n",
            "Customers.csv       100%[===================>]   8.34K  --.-KB/s    in 0s      \n",
            "\n",
            "2025-01-23 16:24:59 (65.1 MB/s) - ‘Customers.csv’ saved [8542/8542]\n",
            "\n",
            "--2025-01-23 16:24:59--  https://drive.google.com/uc?id=1IKuDizVapw-hyktwfpoAoaGtHtTNHfd0\n",
            "Resolving drive.google.com (drive.google.com)... 74.125.69.113, 74.125.69.102, 74.125.69.138, ...\n",
            "Connecting to drive.google.com (drive.google.com)|74.125.69.113|:443... connected.\n",
            "HTTP request sent, awaiting response... 303 See Other\n",
            "Location: https://drive.usercontent.google.com/download?id=1IKuDizVapw-hyktwfpoAoaGtHtTNHfd0 [following]\n",
            "--2025-01-23 16:24:59--  https://drive.usercontent.google.com/download?id=1IKuDizVapw-hyktwfpoAoaGtHtTNHfd0\n",
            "Resolving drive.usercontent.google.com (drive.usercontent.google.com)... 64.233.179.132, 2607:f8b0:4001:c68::84\n",
            "Connecting to drive.usercontent.google.com (drive.usercontent.google.com)|64.233.179.132|:443... connected.\n",
            "HTTP request sent, awaiting response... 200 OK\n",
            "Length: 4247 (4.1K) [application/octet-stream]\n",
            "Saving to: ‘Products.csv’\n",
            "\n",
            "Products.csv        100%[===================>]   4.15K  --.-KB/s    in 0s      \n",
            "\n",
            "2025-01-23 16:25:02 (37.9 MB/s) - ‘Products.csv’ saved [4247/4247]\n",
            "\n",
            "--2025-01-23 16:25:02--  https://drive.google.com/uc?id=1saEqdbBB-vuk2hxoAf4TzDEsykdKlzbF\n",
            "Resolving drive.google.com (drive.google.com)... 74.125.69.113, 74.125.69.102, 74.125.69.138, ...\n",
            "Connecting to drive.google.com (drive.google.com)|74.125.69.113|:443... connected.\n",
            "HTTP request sent, awaiting response... 303 See Other\n",
            "Location: https://drive.usercontent.google.com/download?id=1saEqdbBB-vuk2hxoAf4TzDEsykdKlzbF [following]\n",
            "--2025-01-23 16:25:02--  https://drive.usercontent.google.com/download?id=1saEqdbBB-vuk2hxoAf4TzDEsykdKlzbF\n",
            "Resolving drive.usercontent.google.com (drive.usercontent.google.com)... 64.233.179.132, 2607:f8b0:4001:c68::84\n",
            "Connecting to drive.usercontent.google.com (drive.usercontent.google.com)|64.233.179.132|:443... connected.\n",
            "HTTP request sent, awaiting response... 200 OK\n",
            "Length: 54748 (53K) [application/octet-stream]\n",
            "Saving to: ‘Transactions.csv’\n",
            "\n",
            "Transactions.csv    100%[===================>]  53.46K  --.-KB/s    in 0.001s  \n",
            "\n",
            "2025-01-23 16:25:05 (77.6 MB/s) - ‘Transactions.csv’ saved [54748/54748]\n",
            "\n"
          ]
        }
      ],
      "source": [
        "# prompt: Customers.csv:\n",
        "# https://drive.google.com/file/d/1bu_--mo79VdUG9oin4ybfFGRUSXAe-WE/view?usp=sharing\n",
        "# Products.csv :\n",
        "# https://drive.google.com/file/d/1IKuDizVapw-hyktwfpoAoaGtHtTNHfd0/view?usp=sharing\n",
        "# Transactions.csv :\n",
        "# https://drive.google.com/file/d/1saEqdbBB-vuk2hxoAf4TzDEsykdKlzbF/view?usp=sharing\n",
        "# downLOad these datasets\n",
        "\n",
        "!wget https://drive.google.com/uc?id=1bu_--mo79VdUG9oin4ybfFGRUSXAe-WE -O Customers.csv\n",
        "!wget https://drive.google.com/uc?id=1IKuDizVapw-hyktwfpoAoaGtHtTNHfd0 -O Products.csv\n",
        "!wget https://drive.google.com/uc?id=1saEqdbBB-vuk2hxoAf4TzDEsykdKlzbF -O Transactions.csv\n"
      ]
    },
    {
      "cell_type": "code",
      "source": [
        "import pandas as pd\n",
        "from sklearn.neighbors import NearestNeighbors\n",
        "\n",
        "# Load the datasets\n",
        "customers = pd.read_csv('Customers.csv')\n",
        "products = pd.read_csv('Products.csv')\n",
        "transactions = pd.read_csv('Transactions.csv')\n",
        "\n",
        "# Merge the datasets: Transactions -> Customers -> Products\n",
        "merged_data = transactions.merge(customers, on='CustomerID').merge(products, on='ProductID')\n",
        "\n",
        "# Feature Engineering: Calculate Total Spend, Transaction Count (Frequency), and Account Age\n",
        "total_spend = merged_data.groupby('CustomerID')['TotalValue'].sum()\n",
        "transaction_count = merged_data.groupby('CustomerID')['TransactionID'].count()\n",
        "account_age = pd.to_datetime(customers['SignupDate']).apply(lambda x: (pd.to_datetime('today') - x).days)\n",
        "\n",
        "# Merge features into a single dataframe\n",
        "customer_features = pd.DataFrame({\n",
        "    'TotalSpend': total_spend,\n",
        "    'TransactionCount': transaction_count,\n",
        "    'AccountAge': account_age\n",
        "}).fillna(0)  # Fill missing values (if any) with 0\n",
        "\n",
        "# Fit the KNN model to find the most similar customers\n",
        "knn = NearestNeighbors(n_neighbors=4, metric='cosine')\n",
        "knn.fit(customer_features)\n",
        "\n",
        "# Get the top 3 lookalike customers for each customer (excluding the customer itself)\n",
        "distances, indices = knn.kneighbors(customer_features)\n",
        "\n",
        "# Generate recommendations for the first 20 customers\n",
        "recommendations = []\n",
        "for i, customer_id in enumerate(customer_features.index[:20]):\n",
        "    similar_customers = indices[i][1:]  # Exclude the customer itself\n",
        "    similarity_scores = 1 - distances[i][1:]  # Cosine similarity score (higher is better)\n",
        "\n",
        "    # Create a row with the customer ID and their top 3 lookalikes with similarity scores\n",
        "    rec_row = [customer_id]\n",
        "    for j in range(3):\n",
        "        rec_row.extend([customer_features.index[similar_customers[j]], similarity_scores[j]])\n",
        "\n",
        "    recommendations.append(rec_row)\n",
        "\n",
        "# Create a DataFrame for recommendations\n",
        "lookalike_df = pd.DataFrame(recommendations, columns=['CustomerID', 'Lookalike1_ID', 'Similarity_Score1',\n",
        "                                                      'Lookalike2_ID', 'Similarity_Score2',\n",
        "                                                      'Lookalike3_ID', 'Similarity_Score3'])\n",
        "\n",
        "# Save the result to Lookalike.csv\n",
        "lookalike_df.to_csv('Lookalike.csv', index=False)\n",
        "\n",
        "print(\"Lookalike.csv has been generated.\")\n"
      ],
      "metadata": {
        "colab": {
          "base_uri": "https://localhost:8080/"
        },
        "id": "W7ZbVPlPxPC3",
        "outputId": "0cf9fd53-47dc-48ee-c3f7-3ab0cb9dfada"
      },
      "execution_count": 2,
      "outputs": [
        {
          "output_type": "stream",
          "name": "stdout",
          "text": [
            "Lookalike.csv has been generated.\n"
          ]
        }
      ]
    },
    {
      "cell_type": "code",
      "source": [
        "print(pd.read_csv(\"Lookalike.csv\"))"
      ],
      "metadata": {
        "colab": {
          "base_uri": "https://localhost:8080/"
        },
        "id": "vZqVIZGyx7gY",
        "outputId": "0815dce7-0648-442c-cbea-2588db8f9101"
      },
      "execution_count": 3,
      "outputs": [
        {
          "output_type": "stream",
          "name": "stdout",
          "text": [
            "   CustomerID Lookalike1_ID  Similarity_Score1 Lookalike2_ID  \\\n",
            "0       C0001         C0004                1.0         C0195   \n",
            "1       C0002         C0198                1.0         C0076   \n",
            "2       C0003         C0067                1.0         C0005   \n",
            "3       C0004         C0001                1.0         C0137   \n",
            "4       C0005         C0021                1.0         C0178   \n",
            "5       C0006         C0079                1.0         C0141   \n",
            "6       C0007         C0023                1.0         C0045   \n",
            "7       C0008         C0088                1.0         C0010   \n",
            "8       C0009         C0094                1.0         C0049   \n",
            "9       C0010         C0008                1.0         C0088   \n",
            "10      C0011         C0165                1.0         C0012   \n",
            "11      C0012         C0011                1.0         C0165   \n",
            "12      C0013         C0023                1.0         C0007   \n",
            "13      C0014         C0147                1.0         C0009   \n",
            "14      C0015         C0174                1.0         C0150   \n",
            "15      C0016         C0022                1.0         C0176   \n",
            "16      C0017         C0190                1.0         C0090   \n",
            "17      C0018         C0200                1.0         C0163   \n",
            "18      C0019         C0172                1.0         C0157   \n",
            "19      C0020         C0187                1.0         C0158   \n",
            "\n",
            "    Similarity_Score2 Lookalike3_ID  Similarity_Score3  \n",
            "0                 1.0         C0137                1.0  \n",
            "1                 1.0         C0071                1.0  \n",
            "2                 1.0         C0021                1.0  \n",
            "3                 1.0         C0195                1.0  \n",
            "4                 1.0         C0152                1.0  \n",
            "5                 1.0         C0115                1.0  \n",
            "6                 1.0         C0013                1.0  \n",
            "7                 1.0         C0047                1.0  \n",
            "8                 1.0         C0014                1.0  \n",
            "9                 1.0         C0029                1.0  \n",
            "10                1.0         C0068                1.0  \n",
            "11                1.0         C0068                1.0  \n",
            "12                1.0         C0045                1.0  \n",
            "13                1.0         C0094                1.0  \n",
            "14                1.0         C0069                1.0  \n",
            "15                1.0         C0048                1.0  \n",
            "16                1.0         C0081                1.0  \n",
            "17                1.0         C0140                1.0  \n",
            "18                1.0         C0043                1.0  \n",
            "19                1.0         C0110                1.0  \n"
          ]
        }
      ]
    }
  ]
}